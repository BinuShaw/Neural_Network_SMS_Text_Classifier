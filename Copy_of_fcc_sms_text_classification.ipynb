{
  "cells": [
    {
      "cell_type": "markdown",
      "metadata": {
        "id": "view-in-github",
        "colab_type": "text"
      },
      "source": [
        "<a href=\"https://colab.research.google.com/github/BinuShaw/Neural_Network_SMS_Text_Classifier/blob/main/Copy_of_fcc_sms_text_classification.ipynb\" target=\"_parent\"><img src=\"https://colab.research.google.com/assets/colab-badge.svg\" alt=\"Open In Colab\"/></a>"
      ]
    },
    {
      "cell_type": "code",
      "execution_count": 1,
      "metadata": {
        "id": "8RZOuS9LWQvv",
        "colab": {
          "base_uri": "https://localhost:8080/"
        },
        "outputId": "01a3a35d-6316-4ab8-8395-57e0ea1c6514"
      },
      "outputs": [
        {
          "output_type": "stream",
          "name": "stdout",
          "text": [
            "Requirement already satisfied: tensorflow-datasets in /usr/local/lib/python3.12/dist-packages (4.9.9)\n",
            "Requirement already satisfied: absl-py in /usr/local/lib/python3.12/dist-packages (from tensorflow-datasets) (1.4.0)\n",
            "Requirement already satisfied: array_record>=0.5.0 in /usr/local/lib/python3.12/dist-packages (from tensorflow-datasets) (0.8.1)\n",
            "Requirement already satisfied: dm-tree in /usr/local/lib/python3.12/dist-packages (from tensorflow-datasets) (0.1.9)\n",
            "Requirement already satisfied: etils>=1.9.1 in /usr/local/lib/python3.12/dist-packages (from etils[edc,enp,epath,epy,etree]>=1.9.1; python_version >= \"3.11\"->tensorflow-datasets) (1.13.0)\n",
            "Requirement already satisfied: immutabledict in /usr/local/lib/python3.12/dist-packages (from tensorflow-datasets) (4.2.1)\n",
            "Requirement already satisfied: numpy in /usr/local/lib/python3.12/dist-packages (from tensorflow-datasets) (2.0.2)\n",
            "Requirement already satisfied: promise in /usr/local/lib/python3.12/dist-packages (from tensorflow-datasets) (2.3)\n",
            "Requirement already satisfied: protobuf>=3.20 in /usr/local/lib/python3.12/dist-packages (from tensorflow-datasets) (5.29.5)\n",
            "Requirement already satisfied: psutil in /usr/local/lib/python3.12/dist-packages (from tensorflow-datasets) (5.9.5)\n",
            "Requirement already satisfied: pyarrow in /usr/local/lib/python3.12/dist-packages (from tensorflow-datasets) (18.1.0)\n",
            "Requirement already satisfied: requests>=2.19.0 in /usr/local/lib/python3.12/dist-packages (from tensorflow-datasets) (2.32.4)\n",
            "Requirement already satisfied: simple_parsing in /usr/local/lib/python3.12/dist-packages (from tensorflow-datasets) (0.1.7)\n",
            "Requirement already satisfied: tensorflow-metadata in /usr/local/lib/python3.12/dist-packages (from tensorflow-datasets) (1.17.2)\n",
            "Requirement already satisfied: termcolor in /usr/local/lib/python3.12/dist-packages (from tensorflow-datasets) (3.1.0)\n",
            "Requirement already satisfied: toml in /usr/local/lib/python3.12/dist-packages (from tensorflow-datasets) (0.10.2)\n",
            "Requirement already satisfied: tqdm in /usr/local/lib/python3.12/dist-packages (from tensorflow-datasets) (4.67.1)\n",
            "Requirement already satisfied: wrapt in /usr/local/lib/python3.12/dist-packages (from tensorflow-datasets) (1.17.3)\n",
            "Requirement already satisfied: einops in /usr/local/lib/python3.12/dist-packages (from etils[edc,enp,epath,epy,etree]>=1.9.1; python_version >= \"3.11\"->tensorflow-datasets) (0.8.1)\n",
            "Requirement already satisfied: fsspec in /usr/local/lib/python3.12/dist-packages (from etils[edc,enp,epath,epy,etree]>=1.9.1; python_version >= \"3.11\"->tensorflow-datasets) (2025.3.0)\n",
            "Requirement already satisfied: importlib_resources in /usr/local/lib/python3.12/dist-packages (from etils[edc,enp,epath,epy,etree]>=1.9.1; python_version >= \"3.11\"->tensorflow-datasets) (6.5.2)\n",
            "Requirement already satisfied: typing_extensions in /usr/local/lib/python3.12/dist-packages (from etils[edc,enp,epath,epy,etree]>=1.9.1; python_version >= \"3.11\"->tensorflow-datasets) (4.15.0)\n",
            "Requirement already satisfied: zipp in /usr/local/lib/python3.12/dist-packages (from etils[edc,enp,epath,epy,etree]>=1.9.1; python_version >= \"3.11\"->tensorflow-datasets) (3.23.0)\n",
            "Requirement already satisfied: charset_normalizer<4,>=2 in /usr/local/lib/python3.12/dist-packages (from requests>=2.19.0->tensorflow-datasets) (3.4.3)\n",
            "Requirement already satisfied: idna<4,>=2.5 in /usr/local/lib/python3.12/dist-packages (from requests>=2.19.0->tensorflow-datasets) (3.10)\n",
            "Requirement already satisfied: urllib3<3,>=1.21.1 in /usr/local/lib/python3.12/dist-packages (from requests>=2.19.0->tensorflow-datasets) (2.5.0)\n",
            "Requirement already satisfied: certifi>=2017.4.17 in /usr/local/lib/python3.12/dist-packages (from requests>=2.19.0->tensorflow-datasets) (2025.8.3)\n",
            "Requirement already satisfied: attrs>=18.2.0 in /usr/local/lib/python3.12/dist-packages (from dm-tree->tensorflow-datasets) (25.3.0)\n",
            "Requirement already satisfied: six in /usr/local/lib/python3.12/dist-packages (from promise->tensorflow-datasets) (1.17.0)\n",
            "Requirement already satisfied: docstring-parser<1.0,>=0.15 in /usr/local/lib/python3.12/dist-packages (from simple_parsing->tensorflow-datasets) (0.17.0)\n",
            "Requirement already satisfied: googleapis-common-protos<2,>=1.56.4 in /usr/local/lib/python3.12/dist-packages (from tensorflow-metadata->tensorflow-datasets) (1.70.0)\n",
            "Requirement already satisfied: tensorflow in /usr/local/lib/python3.12/dist-packages (2.19.0)\n",
            "Requirement already satisfied: absl-py>=1.0.0 in /usr/local/lib/python3.12/dist-packages (from tensorflow) (1.4.0)\n",
            "Requirement already satisfied: astunparse>=1.6.0 in /usr/local/lib/python3.12/dist-packages (from tensorflow) (1.6.3)\n",
            "Requirement already satisfied: flatbuffers>=24.3.25 in /usr/local/lib/python3.12/dist-packages (from tensorflow) (25.2.10)\n",
            "Requirement already satisfied: gast!=0.5.0,!=0.5.1,!=0.5.2,>=0.2.1 in /usr/local/lib/python3.12/dist-packages (from tensorflow) (0.6.0)\n",
            "Requirement already satisfied: google-pasta>=0.1.1 in /usr/local/lib/python3.12/dist-packages (from tensorflow) (0.2.0)\n",
            "Requirement already satisfied: libclang>=13.0.0 in /usr/local/lib/python3.12/dist-packages (from tensorflow) (18.1.1)\n",
            "Requirement already satisfied: opt-einsum>=2.3.2 in /usr/local/lib/python3.12/dist-packages (from tensorflow) (3.4.0)\n",
            "Requirement already satisfied: packaging in /usr/local/lib/python3.12/dist-packages (from tensorflow) (25.0)\n",
            "Requirement already satisfied: protobuf!=4.21.0,!=4.21.1,!=4.21.2,!=4.21.3,!=4.21.4,!=4.21.5,<6.0.0dev,>=3.20.3 in /usr/local/lib/python3.12/dist-packages (from tensorflow) (5.29.5)\n",
            "Requirement already satisfied: requests<3,>=2.21.0 in /usr/local/lib/python3.12/dist-packages (from tensorflow) (2.32.4)\n",
            "Requirement already satisfied: setuptools in /usr/local/lib/python3.12/dist-packages (from tensorflow) (75.2.0)\n",
            "Requirement already satisfied: six>=1.12.0 in /usr/local/lib/python3.12/dist-packages (from tensorflow) (1.17.0)\n",
            "Requirement already satisfied: termcolor>=1.1.0 in /usr/local/lib/python3.12/dist-packages (from tensorflow) (3.1.0)\n",
            "Requirement already satisfied: typing-extensions>=3.6.6 in /usr/local/lib/python3.12/dist-packages (from tensorflow) (4.15.0)\n",
            "Requirement already satisfied: wrapt>=1.11.0 in /usr/local/lib/python3.12/dist-packages (from tensorflow) (1.17.3)\n",
            "Requirement already satisfied: grpcio<2.0,>=1.24.3 in /usr/local/lib/python3.12/dist-packages (from tensorflow) (1.74.0)\n",
            "Requirement already satisfied: tensorboard~=2.19.0 in /usr/local/lib/python3.12/dist-packages (from tensorflow) (2.19.0)\n",
            "Requirement already satisfied: keras>=3.5.0 in /usr/local/lib/python3.12/dist-packages (from tensorflow) (3.10.0)\n",
            "Requirement already satisfied: numpy<2.2.0,>=1.26.0 in /usr/local/lib/python3.12/dist-packages (from tensorflow) (2.0.2)\n",
            "Requirement already satisfied: h5py>=3.11.0 in /usr/local/lib/python3.12/dist-packages (from tensorflow) (3.14.0)\n",
            "Requirement already satisfied: ml-dtypes<1.0.0,>=0.5.1 in /usr/local/lib/python3.12/dist-packages (from tensorflow) (0.5.3)\n",
            "Requirement already satisfied: wheel<1.0,>=0.23.0 in /usr/local/lib/python3.12/dist-packages (from astunparse>=1.6.0->tensorflow) (0.45.1)\n",
            "Requirement already satisfied: rich in /usr/local/lib/python3.12/dist-packages (from keras>=3.5.0->tensorflow) (13.9.4)\n",
            "Requirement already satisfied: namex in /usr/local/lib/python3.12/dist-packages (from keras>=3.5.0->tensorflow) (0.1.0)\n",
            "Requirement already satisfied: optree in /usr/local/lib/python3.12/dist-packages (from keras>=3.5.0->tensorflow) (0.17.0)\n",
            "Requirement already satisfied: charset_normalizer<4,>=2 in /usr/local/lib/python3.12/dist-packages (from requests<3,>=2.21.0->tensorflow) (3.4.3)\n",
            "Requirement already satisfied: idna<4,>=2.5 in /usr/local/lib/python3.12/dist-packages (from requests<3,>=2.21.0->tensorflow) (3.10)\n",
            "Requirement already satisfied: urllib3<3,>=1.21.1 in /usr/local/lib/python3.12/dist-packages (from requests<3,>=2.21.0->tensorflow) (2.5.0)\n",
            "Requirement already satisfied: certifi>=2017.4.17 in /usr/local/lib/python3.12/dist-packages (from requests<3,>=2.21.0->tensorflow) (2025.8.3)\n",
            "Requirement already satisfied: markdown>=2.6.8 in /usr/local/lib/python3.12/dist-packages (from tensorboard~=2.19.0->tensorflow) (3.8.2)\n",
            "Requirement already satisfied: tensorboard-data-server<0.8.0,>=0.7.0 in /usr/local/lib/python3.12/dist-packages (from tensorboard~=2.19.0->tensorflow) (0.7.2)\n",
            "Requirement already satisfied: werkzeug>=1.0.1 in /usr/local/lib/python3.12/dist-packages (from tensorboard~=2.19.0->tensorflow) (3.1.3)\n",
            "Requirement already satisfied: MarkupSafe>=2.1.1 in /usr/local/lib/python3.12/dist-packages (from werkzeug>=1.0.1->tensorboard~=2.19.0->tensorflow) (3.0.2)\n",
            "Requirement already satisfied: markdown-it-py>=2.2.0 in /usr/local/lib/python3.12/dist-packages (from rich->keras>=3.5.0->tensorflow) (4.0.0)\n",
            "Requirement already satisfied: pygments<3.0.0,>=2.13.0 in /usr/local/lib/python3.12/dist-packages (from rich->keras>=3.5.0->tensorflow) (2.19.2)\n",
            "Requirement already satisfied: mdurl~=0.1 in /usr/local/lib/python3.12/dist-packages (from markdown-it-py>=2.2.0->rich->keras>=3.5.0->tensorflow) (0.1.2)\n",
            "2.19.0\n"
          ]
        }
      ],
      "source": [
        "# import libraries\n",
        "import pandas as pd\n",
        "!pip install tensorflow-datasets\n",
        "!pip install tensorflow\n",
        "import tensorflow as tf\n",
        "import tensorflow_datasets as tfds\n",
        "import numpy as np\n",
        "import matplotlib.pyplot as plt\n",
        "\n",
        "from tensorflow.keras.preprocessing.text import one_hot\n",
        "from tensorflow.keras.preprocessing.sequence import pad_sequences\n",
        "from tensorflow.keras.preprocessing.text import Tokenizer\n",
        "from tensorflow.keras.models import Sequential\n",
        "from tensorflow.keras.layers import Flatten, Embedding, Dense, GlobalAveragePooling1D\n",
        "from tensorflow.keras.callbacks import EarlyStopping\n",
        "\n",
        "print(tf.__version__)"
      ]
    },
    {
      "cell_type": "code",
      "execution_count": 2,
      "metadata": {
        "id": "lMHwYXHXCar3",
        "colab": {
          "base_uri": "https://localhost:8080/"
        },
        "outputId": "2930698f-6274-41bd-e197-ab63ea1d3bdb"
      },
      "outputs": [
        {
          "output_type": "stream",
          "name": "stdout",
          "text": [
            "--2025-09-04 18:41:34--  https://cdn.freecodecamp.org/project-data/sms/train-data.tsv\n",
            "Resolving cdn.freecodecamp.org (cdn.freecodecamp.org)... 104.26.2.33, 172.67.70.149, 104.26.3.33, ...\n",
            "Connecting to cdn.freecodecamp.org (cdn.freecodecamp.org)|104.26.2.33|:443... connected.\n",
            "HTTP request sent, awaiting response... 200 OK\n",
            "Length: 358233 (350K) [text/tab-separated-values]\n",
            "Saving to: ‘train-data.tsv’\n",
            "\n",
            "train-data.tsv      100%[===================>] 349.84K  --.-KB/s    in 0.1s    \n",
            "\n",
            "2025-09-04 18:41:35 (2.44 MB/s) - ‘train-data.tsv’ saved [358233/358233]\n",
            "\n",
            "--2025-09-04 18:41:35--  https://cdn.freecodecamp.org/project-data/sms/valid-data.tsv\n",
            "Resolving cdn.freecodecamp.org (cdn.freecodecamp.org)... 104.26.2.33, 172.67.70.149, 104.26.3.33, ...\n",
            "Connecting to cdn.freecodecamp.org (cdn.freecodecamp.org)|104.26.2.33|:443... connected.\n",
            "HTTP request sent, awaiting response... 200 OK\n",
            "Length: 118774 (116K) [text/tab-separated-values]\n",
            "Saving to: ‘valid-data.tsv’\n",
            "\n",
            "valid-data.tsv      100%[===================>] 115.99K  --.-KB/s    in 0.02s   \n",
            "\n",
            "2025-09-04 18:41:35 (4.98 MB/s) - ‘valid-data.tsv’ saved [118774/118774]\n",
            "\n"
          ]
        }
      ],
      "source": [
        "# get data files\n",
        "!wget https://cdn.freecodecamp.org/project-data/sms/train-data.tsv\n",
        "!wget https://cdn.freecodecamp.org/project-data/sms/valid-data.tsv\n",
        "\n",
        "train_file_path = \"train-data.tsv\"\n",
        "test_file_path = \"valid-data.tsv\""
      ]
    },
    {
      "cell_type": "code",
      "execution_count": 3,
      "metadata": {
        "id": "g_h508FEClxO",
        "colab": {
          "base_uri": "https://localhost:8080/"
        },
        "outputId": "83f6025f-d00c-4065-b5fa-d8ea6f0e30d7"
      },
      "outputs": [
        {
          "output_type": "stream",
          "name": "stdout",
          "text": [
            "  class                                            message\n",
            "0   ham  ahhhh...just woken up!had a bad dream about u ...\n",
            "1   ham                           you can never do nothing\n",
            "2   ham  now u sound like manky scouse boy steve,like! ...\n",
            "3   ham  mum say we wan to go then go... then she can s...\n",
            "4   ham  never y lei... i v lazy... got wat? dat day ü ...\n"
          ]
        }
      ],
      "source": [
        "df_train = pd.read_csv(train_file_path, sep= \"\\t\" ,header=None, names=[\"class\" , \"message\"])\n",
        "print(df_train.head())"
      ]
    },
    {
      "cell_type": "code",
      "execution_count": 4,
      "metadata": {
        "id": "zOMKywn4zReN",
        "colab": {
          "base_uri": "https://localhost:8080/"
        },
        "outputId": "b34376fd-8b3e-47f6-bfa0-6b6998bbaa79"
      },
      "outputs": [
        {
          "output_type": "stream",
          "name": "stdout",
          "text": [
            "  class                                            message\n",
            "0   ham  i am in hospital da. . i will return home in e...\n",
            "1   ham         not much, just some textin'. how bout you?\n",
            "2   ham  i probably won't eat at all today. i think i'm...\n",
            "3   ham  don‘t give a flying monkeys wot they think and...\n",
            "4   ham                                who are you seeing?\n"
          ]
        }
      ],
      "source": [
        "df_test = pd.read_csv(test_file_path, sep= \"\\t\",header=None, names=[\"class\" , \"message\"])\n",
        "print(df_test.head())"
      ]
    },
    {
      "cell_type": "code",
      "source": [
        "print(len(df_train))\n",
        "print(len(df_test))"
      ],
      "metadata": {
        "colab": {
          "base_uri": "https://localhost:8080/"
        },
        "id": "N5uUaHo7B59g",
        "outputId": "088d5f40-fec7-42ae-da30-02eb04d17f64"
      },
      "execution_count": 5,
      "outputs": [
        {
          "output_type": "stream",
          "name": "stdout",
          "text": [
            "4179\n",
            "1392\n"
          ]
        }
      ]
    },
    {
      "cell_type": "code",
      "source": [
        "df_train['class'] = df_train['class'].replace({'ham':0 ,'spam':1})\n",
        "df_test['class'] = df_test['class'].replace({'ham':0 ,'spam':1})"
      ],
      "metadata": {
        "colab": {
          "base_uri": "https://localhost:8080/"
        },
        "id": "158J_uTMB7Lu",
        "outputId": "c01d9861-2091-4bc7-bea5-059dedeffc4b"
      },
      "execution_count": 6,
      "outputs": [
        {
          "output_type": "stream",
          "name": "stderr",
          "text": [
            "/tmp/ipython-input-2832180405.py:1: FutureWarning: Downcasting behavior in `replace` is deprecated and will be removed in a future version. To retain the old behavior, explicitly call `result.infer_objects(copy=False)`. To opt-in to the future behavior, set `pd.set_option('future.no_silent_downcasting', True)`\n",
            "  df_train['class'] = df_train['class'].replace({'ham':0 ,'spam':1})\n",
            "/tmp/ipython-input-2832180405.py:2: FutureWarning: Downcasting behavior in `replace` is deprecated and will be removed in a future version. To retain the old behavior, explicitly call `result.infer_objects(copy=False)`. To opt-in to the future behavior, set `pd.set_option('future.no_silent_downcasting', True)`\n",
            "  df_test['class'] = df_test['class'].replace({'ham':0 ,'spam':1})\n"
          ]
        }
      ]
    },
    {
      "cell_type": "code",
      "source": [
        "VOCAB_SIZE = 10000\n",
        "MAX_LENGTH = 100"
      ],
      "metadata": {
        "id": "Aaw0T4pYB7EF"
      },
      "execution_count": 7,
      "outputs": []
    },
    {
      "cell_type": "code",
      "source": [
        "tokenizer = Tokenizer(num_words=VOCAB_SIZE, oov_token=\"<OOV>\")\n",
        "tokenizer.fit_on_texts(df_train['message'])\n",
        "\n",
        "padded_train_message = pad_sequences(tokenizer.texts_to_sequences(df_train['message']),\n",
        "                                     maxlen=MAX_LENGTH, padding='post')\n",
        "padded_test_message = pad_sequences(tokenizer.texts_to_sequences(df_test['message']),\n",
        "                                    maxlen=MAX_LENGTH, padding='post')\n"
      ],
      "metadata": {
        "id": "8vhICPI1CF4w"
      },
      "execution_count": 8,
      "outputs": []
    },
    {
      "cell_type": "code",
      "source": [
        "model = Sequential()\n",
        "model.add(Embedding(VOCAB_SIZE, 100, input_length=MAX_LENGTH))\n",
        "model.add(GlobalAveragePooling1D())\n",
        "model.add(Dense(1, activation='sigmoid'))\n",
        "model.compile(optimizer='adam', loss='binary_crossentropy', metrics=['accuracy'])\n",
        "monitor = EarlyStopping(monitor='val_accuracy', min_delta=1e-4, patience=25,\n",
        "                        verbose=1, mode='max', restore_best_weights=True)\n",
        "model.fit(padded_train_message, df_train['class'],\n",
        "          validation_data=(padded_test_message, df_test['class']),\n",
        "          callbacks=[monitor], epochs=50, verbose=2)"
      ],
      "metadata": {
        "colab": {
          "base_uri": "https://localhost:8080/"
        },
        "id": "wqbDnVvQCF0c",
        "outputId": "35a11c5e-9792-4270-e7de-03435777ec40"
      },
      "execution_count": 9,
      "outputs": [
        {
          "output_type": "stream",
          "name": "stdout",
          "text": [
            "Epoch 1/50\n"
          ]
        },
        {
          "output_type": "stream",
          "name": "stderr",
          "text": [
            "/usr/local/lib/python3.12/dist-packages/keras/src/layers/core/embedding.py:97: UserWarning: Argument `input_length` is deprecated. Just remove it.\n",
            "  warnings.warn(\n"
          ]
        },
        {
          "output_type": "stream",
          "name": "stdout",
          "text": [
            "131/131 - 3s - 21ms/step - accuracy: 0.8660 - loss: 0.3722 - val_accuracy: 0.8657 - val_loss: 0.3533\n",
            "Epoch 2/50\n",
            "131/131 - 1s - 11ms/step - accuracy: 0.8660 - loss: 0.3416 - val_accuracy: 0.8657 - val_loss: 0.3290\n",
            "Epoch 3/50\n",
            "131/131 - 3s - 20ms/step - accuracy: 0.8660 - loss: 0.3083 - val_accuracy: 0.8657 - val_loss: 0.2866\n",
            "Epoch 4/50\n",
            "131/131 - 2s - 13ms/step - accuracy: 0.8722 - loss: 0.2520 - val_accuracy: 0.9124 - val_loss: 0.2309\n",
            "Epoch 5/50\n",
            "131/131 - 4s - 28ms/step - accuracy: 0.9191 - loss: 0.1869 - val_accuracy: 0.9562 - val_loss: 0.1718\n",
            "Epoch 6/50\n",
            "131/131 - 2s - 16ms/step - accuracy: 0.9593 - loss: 0.1360 - val_accuracy: 0.9483 - val_loss: 0.1362\n",
            "Epoch 7/50\n",
            "131/131 - 2s - 12ms/step - accuracy: 0.9713 - loss: 0.1039 - val_accuracy: 0.9634 - val_loss: 0.1097\n",
            "Epoch 8/50\n",
            "131/131 - 1s - 11ms/step - accuracy: 0.9761 - loss: 0.0836 - val_accuracy: 0.9734 - val_loss: 0.0925\n",
            "Epoch 9/50\n",
            "131/131 - 1s - 11ms/step - accuracy: 0.9797 - loss: 0.0714 - val_accuracy: 0.9777 - val_loss: 0.0850\n",
            "Epoch 10/50\n",
            "131/131 - 3s - 20ms/step - accuracy: 0.9825 - loss: 0.0627 - val_accuracy: 0.9763 - val_loss: 0.0765\n",
            "Epoch 11/50\n",
            "131/131 - 3s - 23ms/step - accuracy: 0.9859 - loss: 0.0541 - val_accuracy: 0.9777 - val_loss: 0.0714\n",
            "Epoch 12/50\n",
            "131/131 - 2s - 17ms/step - accuracy: 0.9871 - loss: 0.0483 - val_accuracy: 0.9763 - val_loss: 0.0700\n",
            "Epoch 13/50\n",
            "131/131 - 2s - 18ms/step - accuracy: 0.9890 - loss: 0.0443 - val_accuracy: 0.9770 - val_loss: 0.0686\n",
            "Epoch 14/50\n",
            "131/131 - 1s - 11ms/step - accuracy: 0.9892 - loss: 0.0409 - val_accuracy: 0.9792 - val_loss: 0.0616\n",
            "Epoch 15/50\n",
            "131/131 - 1s - 11ms/step - accuracy: 0.9907 - loss: 0.0375 - val_accuracy: 0.9777 - val_loss: 0.0648\n",
            "Epoch 16/50\n",
            "131/131 - 3s - 20ms/step - accuracy: 0.9911 - loss: 0.0348 - val_accuracy: 0.9806 - val_loss: 0.0575\n",
            "Epoch 17/50\n",
            "131/131 - 3s - 24ms/step - accuracy: 0.9911 - loss: 0.0324 - val_accuracy: 0.9784 - val_loss: 0.0657\n",
            "Epoch 18/50\n",
            "131/131 - 2s - 15ms/step - accuracy: 0.9911 - loss: 0.0324 - val_accuracy: 0.9792 - val_loss: 0.0568\n",
            "Epoch 19/50\n",
            "131/131 - 2s - 12ms/step - accuracy: 0.9933 - loss: 0.0276 - val_accuracy: 0.9799 - val_loss: 0.0541\n",
            "Epoch 20/50\n",
            "131/131 - 2s - 12ms/step - accuracy: 0.9935 - loss: 0.0247 - val_accuracy: 0.9799 - val_loss: 0.0573\n",
            "Epoch 21/50\n",
            "131/131 - 2s - 12ms/step - accuracy: 0.9933 - loss: 0.0252 - val_accuracy: 0.9799 - val_loss: 0.0546\n",
            "Epoch 22/50\n",
            "131/131 - 2s - 12ms/step - accuracy: 0.9940 - loss: 0.0225 - val_accuracy: 0.9835 - val_loss: 0.0503\n",
            "Epoch 23/50\n",
            "131/131 - 1s - 11ms/step - accuracy: 0.9945 - loss: 0.0208 - val_accuracy: 0.9813 - val_loss: 0.0516\n",
            "Epoch 24/50\n",
            "131/131 - 3s - 23ms/step - accuracy: 0.9940 - loss: 0.0198 - val_accuracy: 0.9856 - val_loss: 0.0526\n",
            "Epoch 25/50\n",
            "131/131 - 2s - 14ms/step - accuracy: 0.9955 - loss: 0.0185 - val_accuracy: 0.9820 - val_loss: 0.0500\n",
            "Epoch 26/50\n",
            "131/131 - 1s - 11ms/step - accuracy: 0.9955 - loss: 0.0173 - val_accuracy: 0.9835 - val_loss: 0.0475\n",
            "Epoch 27/50\n",
            "131/131 - 3s - 20ms/step - accuracy: 0.9957 - loss: 0.0148 - val_accuracy: 0.9835 - val_loss: 0.0507\n",
            "Epoch 28/50\n",
            "131/131 - 2s - 19ms/step - accuracy: 0.9959 - loss: 0.0142 - val_accuracy: 0.9799 - val_loss: 0.0589\n",
            "Epoch 29/50\n",
            "131/131 - 2s - 13ms/step - accuracy: 0.9950 - loss: 0.0143 - val_accuracy: 0.9856 - val_loss: 0.0467\n",
            "Epoch 30/50\n",
            "131/131 - 2s - 19ms/step - accuracy: 0.9964 - loss: 0.0133 - val_accuracy: 0.9856 - val_loss: 0.0460\n",
            "Epoch 31/50\n",
            "131/131 - 2s - 18ms/step - accuracy: 0.9966 - loss: 0.0129 - val_accuracy: 0.9856 - val_loss: 0.0455\n",
            "Epoch 32/50\n",
            "131/131 - 3s - 20ms/step - accuracy: 0.9964 - loss: 0.0114 - val_accuracy: 0.9849 - val_loss: 0.0454\n",
            "Epoch 33/50\n",
            "131/131 - 2s - 19ms/step - accuracy: 0.9964 - loss: 0.0114 - val_accuracy: 0.9799 - val_loss: 0.0660\n",
            "Epoch 34/50\n",
            "131/131 - 2s - 12ms/step - accuracy: 0.9969 - loss: 0.0113 - val_accuracy: 0.9856 - val_loss: 0.0451\n",
            "Epoch 35/50\n",
            "131/131 - 3s - 23ms/step - accuracy: 0.9981 - loss: 0.0095 - val_accuracy: 0.9842 - val_loss: 0.0482\n",
            "Epoch 36/50\n",
            "131/131 - 2s - 12ms/step - accuracy: 0.9978 - loss: 0.0090 - val_accuracy: 0.9864 - val_loss: 0.0445\n",
            "Epoch 37/50\n",
            "131/131 - 2s - 12ms/step - accuracy: 0.9976 - loss: 0.0087 - val_accuracy: 0.9849 - val_loss: 0.0475\n",
            "Epoch 38/50\n",
            "131/131 - 2s - 19ms/step - accuracy: 0.9981 - loss: 0.0084 - val_accuracy: 0.9864 - val_loss: 0.0435\n",
            "Epoch 39/50\n",
            "131/131 - 3s - 20ms/step - accuracy: 0.9981 - loss: 0.0079 - val_accuracy: 0.9849 - val_loss: 0.0572\n",
            "Epoch 40/50\n",
            "131/131 - 2s - 13ms/step - accuracy: 0.9986 - loss: 0.0075 - val_accuracy: 0.9856 - val_loss: 0.0428\n",
            "Epoch 41/50\n",
            "131/131 - 2s - 17ms/step - accuracy: 0.9983 - loss: 0.0075 - val_accuracy: 0.9864 - val_loss: 0.0458\n",
            "Epoch 42/50\n",
            "131/131 - 2s - 14ms/step - accuracy: 0.9990 - loss: 0.0062 - val_accuracy: 0.9856 - val_loss: 0.0453\n",
            "Epoch 43/50\n",
            "131/131 - 2s - 12ms/step - accuracy: 0.9988 - loss: 0.0069 - val_accuracy: 0.9864 - val_loss: 0.0504\n",
            "Epoch 44/50\n",
            "131/131 - 2s - 19ms/step - accuracy: 0.9988 - loss: 0.0054 - val_accuracy: 0.9856 - val_loss: 0.0573\n",
            "Epoch 45/50\n",
            "131/131 - 3s - 20ms/step - accuracy: 0.9976 - loss: 0.0085 - val_accuracy: 0.9878 - val_loss: 0.0436\n",
            "Epoch 46/50\n",
            "131/131 - 3s - 23ms/step - accuracy: 0.9990 - loss: 0.0051 - val_accuracy: 0.9878 - val_loss: 0.0451\n",
            "Epoch 47/50\n",
            "131/131 - 2s - 15ms/step - accuracy: 0.9993 - loss: 0.0050 - val_accuracy: 0.9878 - val_loss: 0.0459\n",
            "Epoch 48/50\n",
            "131/131 - 2s - 19ms/step - accuracy: 0.9990 - loss: 0.0049 - val_accuracy: 0.9856 - val_loss: 0.0549\n",
            "Epoch 49/50\n",
            "131/131 - 2s - 12ms/step - accuracy: 0.9990 - loss: 0.0049 - val_accuracy: 0.9878 - val_loss: 0.0458\n",
            "Epoch 50/50\n",
            "131/131 - 3s - 20ms/step - accuracy: 0.9981 - loss: 0.0065 - val_accuracy: 0.9849 - val_loss: 0.0544\n",
            "Restoring model weights from the end of the best epoch: 45.\n"
          ]
        },
        {
          "output_type": "execute_result",
          "data": {
            "text/plain": [
              "<keras.src.callbacks.history.History at 0x78707e2a60c0>"
            ]
          },
          "metadata": {},
          "execution_count": 9
        }
      ]
    },
    {
      "cell_type": "code",
      "source": [
        "def predict_message(pred_text):\n",
        "    class_dict = {0: \"ham\", 1: \"spam\"}\n",
        "\n",
        "    # Use the trained tokenizer\n",
        "    encoded_message = tokenizer.texts_to_sequences([pred_text])\n",
        "    padded_message = pad_sequences(encoded_message, maxlen=MAX_LENGTH, padding='post')\n",
        "\n",
        "    pred = model.predict(padded_message, verbose=0)[0][0]  # single float\n",
        "    label = class_dict[int(np.round(pred))]\n",
        "\n",
        "    return [pred, label]\n",
        "\n",
        "# Example\n",
        "pred_text = \"how are you doing today?\"\n",
        "prediction = predict_message(pred_text)\n",
        "print(prediction)"
      ],
      "metadata": {
        "colab": {
          "base_uri": "https://localhost:8080/"
        },
        "id": "Nn_RjDhsB6_-",
        "outputId": "33c92a5f-c3cd-4723-9154-888ad2f24869"
      },
      "execution_count": 10,
      "outputs": [
        {
          "output_type": "stream",
          "name": "stdout",
          "text": [
            "[np.float32(0.0017907711), 'ham']\n"
          ]
        }
      ]
    },
    {
      "cell_type": "code",
      "execution_count": 11,
      "metadata": {
        "id": "Dxotov85SjsC",
        "colab": {
          "base_uri": "https://localhost:8080/"
        },
        "outputId": "64d3e165-f624-49d9-d4aa-418cb305fb6a"
      },
      "outputs": [
        {
          "output_type": "stream",
          "name": "stdout",
          "text": [
            "You passed the challenge. Great job!\n"
          ]
        }
      ],
      "source": [
        "# Run this cell to test your function and model. Do not modify contents.\n",
        "def test_predictions():\n",
        "  test_messages = [\"how are you doing today\",\n",
        "                   \"sale today! to stop texts call 98912460324\",\n",
        "                   \"i dont want to go. can we try it a different day? available sat\",\n",
        "                   \"our new mobile video service is live. just install on your phone to start watching.\",\n",
        "                   \"you have won £1000 cash! call to claim your prize.\",\n",
        "                   \"i'll bring it tomorrow. don't forget the milk.\",\n",
        "                   \"wow, is your arm alright. that happened to me one time too\"\n",
        "                  ]\n",
        "\n",
        "  test_answers = [\"ham\", \"spam\", \"ham\", \"spam\", \"spam\", \"ham\", \"ham\"]\n",
        "  passed = True\n",
        "\n",
        "  for msg, ans in zip(test_messages, test_answers):\n",
        "    prediction = predict_message(msg)\n",
        "    if prediction[1] != ans:\n",
        "      passed = False\n",
        "\n",
        "  if passed:\n",
        "    print(\"You passed the challenge. Great job!\")\n",
        "  else:\n",
        "    print(\"You haven't passed yet. Keep trying.\")\n",
        "\n",
        "test_predictions()\n"
      ]
    }
  ],
  "metadata": {
    "colab": {
      "provenance": [],
      "toc_visible": true,
      "include_colab_link": true
    },
    "kernelspec": {
      "display_name": "Python 3",
      "name": "python3"
    },
    "language_info": {}
  },
  "nbformat": 4,
  "nbformat_minor": 0
}