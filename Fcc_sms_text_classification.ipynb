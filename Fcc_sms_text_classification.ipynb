{
  "cells": [
    {
      "cell_type": "code",
      "execution_count": null,
      "metadata": {
        "colab": {
          "base_uri": "https://localhost:8080/"
        },
        "id": "4pQprDKJU18p",
        "outputId": "a79e70a5-d2fe-4f2e-8473-0886972f78c7"
      },
      "outputs": [
        {
          "name": "stdout",
          "output_type": "stream",
          "text": [
            "Requirement already satisfied: tensorflow-datasets in /usr/local/lib/python3.11/dist-packages (4.9.9)\n",
            "Requirement already satisfied: absl-py in /usr/local/lib/python3.11/dist-packages (from tensorflow-datasets) (1.4.0)\n",
            "Requirement already satisfied: array_record>=0.5.0 in /usr/local/lib/python3.11/dist-packages (from tensorflow-datasets) (0.7.2)\n",
            "Requirement already satisfied: dm-tree in /usr/local/lib/python3.11/dist-packages (from tensorflow-datasets) (0.1.9)\n",
            "Requirement already satisfied: etils>=1.9.1 in /usr/local/lib/python3.11/dist-packages (from etils[edc,enp,epath,epy,etree]>=1.9.1; python_version >= \"3.11\"->tensorflow-datasets) (1.12.2)\n",
            "Requirement already satisfied: immutabledict in /usr/local/lib/python3.11/dist-packages (from tensorflow-datasets) (4.2.1)\n",
            "Requirement already satisfied: numpy in /usr/local/lib/python3.11/dist-packages (from tensorflow-datasets) (2.0.2)\n",
            "Requirement already satisfied: promise in /usr/local/lib/python3.11/dist-packages (from tensorflow-datasets) (2.3)\n",
            "Requirement already satisfied: protobuf>=3.20 in /usr/local/lib/python3.11/dist-packages (from tensorflow-datasets) (5.29.5)\n",
            "Requirement already satisfied: psutil in /usr/local/lib/python3.11/dist-packages (from tensorflow-datasets) (5.9.5)\n",
            "Requirement already satisfied: pyarrow in /usr/local/lib/python3.11/dist-packages (from tensorflow-datasets) (18.1.0)\n",
            "Requirement already satisfied: requests>=2.19.0 in /usr/local/lib/python3.11/dist-packages (from tensorflow-datasets) (2.32.3)\n",
            "Requirement already satisfied: simple_parsing in /usr/local/lib/python3.11/dist-packages (from tensorflow-datasets) (0.1.7)\n",
            "Requirement already satisfied: tensorflow-metadata in /usr/local/lib/python3.11/dist-packages (from tensorflow-datasets) (1.17.2)\n",
            "Requirement already satisfied: termcolor in /usr/local/lib/python3.11/dist-packages (from tensorflow-datasets) (3.1.0)\n",
            "Requirement already satisfied: toml in /usr/local/lib/python3.11/dist-packages (from tensorflow-datasets) (0.10.2)\n",
            "Requirement already satisfied: tqdm in /usr/local/lib/python3.11/dist-packages (from tensorflow-datasets) (4.67.1)\n",
            "Requirement already satisfied: wrapt in /usr/local/lib/python3.11/dist-packages (from tensorflow-datasets) (1.17.2)\n",
            "Requirement already satisfied: einops in /usr/local/lib/python3.11/dist-packages (from etils[edc,enp,epath,epy,etree]>=1.9.1; python_version >= \"3.11\"->tensorflow-datasets) (0.8.1)\n",
            "Requirement already satisfied: fsspec in /usr/local/lib/python3.11/dist-packages (from etils[edc,enp,epath,epy,etree]>=1.9.1; python_version >= \"3.11\"->tensorflow-datasets) (2025.3.2)\n",
            "Requirement already satisfied: importlib_resources in /usr/local/lib/python3.11/dist-packages (from etils[edc,enp,epath,epy,etree]>=1.9.1; python_version >= \"3.11\"->tensorflow-datasets) (6.5.2)\n",
            "Requirement already satisfied: typing_extensions in /usr/local/lib/python3.11/dist-packages (from etils[edc,enp,epath,epy,etree]>=1.9.1; python_version >= \"3.11\"->tensorflow-datasets) (4.14.1)\n",
            "Requirement already satisfied: zipp in /usr/local/lib/python3.11/dist-packages (from etils[edc,enp,epath,epy,etree]>=1.9.1; python_version >= \"3.11\"->tensorflow-datasets) (3.23.0)\n",
            "Requirement already satisfied: charset-normalizer<4,>=2 in /usr/local/lib/python3.11/dist-packages (from requests>=2.19.0->tensorflow-datasets) (3.4.2)\n",
            "Requirement already satisfied: idna<4,>=2.5 in /usr/local/lib/python3.11/dist-packages (from requests>=2.19.0->tensorflow-datasets) (3.10)\n",
            "Requirement already satisfied: urllib3<3,>=1.21.1 in /usr/local/lib/python3.11/dist-packages (from requests>=2.19.0->tensorflow-datasets) (2.4.0)\n",
            "Requirement already satisfied: certifi>=2017.4.17 in /usr/local/lib/python3.11/dist-packages (from requests>=2.19.0->tensorflow-datasets) (2025.7.14)\n",
            "Requirement already satisfied: attrs>=18.2.0 in /usr/local/lib/python3.11/dist-packages (from dm-tree->tensorflow-datasets) (25.3.0)\n",
            "Requirement already satisfied: six in /usr/local/lib/python3.11/dist-packages (from promise->tensorflow-datasets) (1.17.0)\n",
            "Requirement already satisfied: docstring-parser<1.0,>=0.15 in /usr/local/lib/python3.11/dist-packages (from simple_parsing->tensorflow-datasets) (0.16)\n",
            "Requirement already satisfied: googleapis-common-protos<2,>=1.56.4 in /usr/local/lib/python3.11/dist-packages (from tensorflow-metadata->tensorflow-datasets) (1.70.0)\n",
            "Requirement already satisfied: tensorflow in /usr/local/lib/python3.11/dist-packages (2.18.0)\n",
            "Requirement already satisfied: absl-py>=1.0.0 in /usr/local/lib/python3.11/dist-packages (from tensorflow) (1.4.0)\n",
            "Requirement already satisfied: astunparse>=1.6.0 in /usr/local/lib/python3.11/dist-packages (from tensorflow) (1.6.3)\n",
            "Requirement already satisfied: flatbuffers>=24.3.25 in /usr/local/lib/python3.11/dist-packages (from tensorflow) (25.2.10)\n",
            "Requirement already satisfied: gast!=0.5.0,!=0.5.1,!=0.5.2,>=0.2.1 in /usr/local/lib/python3.11/dist-packages (from tensorflow) (0.6.0)\n",
            "Requirement already satisfied: google-pasta>=0.1.1 in /usr/local/lib/python3.11/dist-packages (from tensorflow) (0.2.0)\n",
            "Requirement already satisfied: libclang>=13.0.0 in /usr/local/lib/python3.11/dist-packages (from tensorflow) (18.1.1)\n",
            "Requirement already satisfied: opt-einsum>=2.3.2 in /usr/local/lib/python3.11/dist-packages (from tensorflow) (3.4.0)\n",
            "Requirement already satisfied: packaging in /usr/local/lib/python3.11/dist-packages (from tensorflow) (24.2)\n",
            "Requirement already satisfied: protobuf!=4.21.0,!=4.21.1,!=4.21.2,!=4.21.3,!=4.21.4,!=4.21.5,<6.0.0dev,>=3.20.3 in /usr/local/lib/python3.11/dist-packages (from tensorflow) (5.29.5)\n",
            "Requirement already satisfied: requests<3,>=2.21.0 in /usr/local/lib/python3.11/dist-packages (from tensorflow) (2.32.3)\n",
            "Requirement already satisfied: setuptools in /usr/local/lib/python3.11/dist-packages (from tensorflow) (75.2.0)\n",
            "Requirement already satisfied: six>=1.12.0 in /usr/local/lib/python3.11/dist-packages (from tensorflow) (1.17.0)\n",
            "Requirement already satisfied: termcolor>=1.1.0 in /usr/local/lib/python3.11/dist-packages (from tensorflow) (3.1.0)\n",
            "Requirement already satisfied: typing-extensions>=3.6.6 in /usr/local/lib/python3.11/dist-packages (from tensorflow) (4.14.1)\n",
            "Requirement already satisfied: wrapt>=1.11.0 in /usr/local/lib/python3.11/dist-packages (from tensorflow) (1.17.2)\n",
            "Requirement already satisfied: grpcio<2.0,>=1.24.3 in /usr/local/lib/python3.11/dist-packages (from tensorflow) (1.73.1)\n",
            "Requirement already satisfied: tensorboard<2.19,>=2.18 in /usr/local/lib/python3.11/dist-packages (from tensorflow) (2.18.0)\n",
            "Requirement already satisfied: keras>=3.5.0 in /usr/local/lib/python3.11/dist-packages (from tensorflow) (3.8.0)\n",
            "Requirement already satisfied: numpy<2.1.0,>=1.26.0 in /usr/local/lib/python3.11/dist-packages (from tensorflow) (2.0.2)\n",
            "Requirement already satisfied: h5py>=3.11.0 in /usr/local/lib/python3.11/dist-packages (from tensorflow) (3.14.0)\n",
            "Requirement already satisfied: ml-dtypes<0.5.0,>=0.4.0 in /usr/local/lib/python3.11/dist-packages (from tensorflow) (0.4.1)\n",
            "Requirement already satisfied: tensorflow-io-gcs-filesystem>=0.23.1 in /usr/local/lib/python3.11/dist-packages (from tensorflow) (0.37.1)\n",
            "Requirement already satisfied: wheel<1.0,>=0.23.0 in /usr/local/lib/python3.11/dist-packages (from astunparse>=1.6.0->tensorflow) (0.45.1)\n",
            "Requirement already satisfied: rich in /usr/local/lib/python3.11/dist-packages (from keras>=3.5.0->tensorflow) (13.9.4)\n",
            "Requirement already satisfied: namex in /usr/local/lib/python3.11/dist-packages (from keras>=3.5.0->tensorflow) (0.1.0)\n",
            "Requirement already satisfied: optree in /usr/local/lib/python3.11/dist-packages (from keras>=3.5.0->tensorflow) (0.16.0)\n",
            "Requirement already satisfied: charset-normalizer<4,>=2 in /usr/local/lib/python3.11/dist-packages (from requests<3,>=2.21.0->tensorflow) (3.4.2)\n",
            "Requirement already satisfied: idna<4,>=2.5 in /usr/local/lib/python3.11/dist-packages (from requests<3,>=2.21.0->tensorflow) (3.10)\n",
            "Requirement already satisfied: urllib3<3,>=1.21.1 in /usr/local/lib/python3.11/dist-packages (from requests<3,>=2.21.0->tensorflow) (2.4.0)\n",
            "Requirement already satisfied: certifi>=2017.4.17 in /usr/local/lib/python3.11/dist-packages (from requests<3,>=2.21.0->tensorflow) (2025.7.14)\n",
            "Requirement already satisfied: markdown>=2.6.8 in /usr/local/lib/python3.11/dist-packages (from tensorboard<2.19,>=2.18->tensorflow) (3.8.2)\n",
            "Requirement already satisfied: tensorboard-data-server<0.8.0,>=0.7.0 in /usr/local/lib/python3.11/dist-packages (from tensorboard<2.19,>=2.18->tensorflow) (0.7.2)\n",
            "Requirement already satisfied: werkzeug>=1.0.1 in /usr/local/lib/python3.11/dist-packages (from tensorboard<2.19,>=2.18->tensorflow) (3.1.3)\n",
            "Requirement already satisfied: MarkupSafe>=2.1.1 in /usr/local/lib/python3.11/dist-packages (from werkzeug>=1.0.1->tensorboard<2.19,>=2.18->tensorflow) (3.0.2)\n",
            "Requirement already satisfied: markdown-it-py>=2.2.0 in /usr/local/lib/python3.11/dist-packages (from rich->keras>=3.5.0->tensorflow) (3.0.0)\n",
            "Requirement already satisfied: pygments<3.0.0,>=2.13.0 in /usr/local/lib/python3.11/dist-packages (from rich->keras>=3.5.0->tensorflow) (2.19.2)\n",
            "Requirement already satisfied: mdurl~=0.1 in /usr/local/lib/python3.11/dist-packages (from markdown-it-py>=2.2.0->rich->keras>=3.5.0->tensorflow) (0.1.2)\n",
            "2.18.0\n"
          ]
        }
      ],
      "source": [
        "# import libraries\n",
        "import pandas as pd\n",
        "!pip install tensorflow-datasets\n",
        "!pip install tensorflow\n",
        "import tensorflow as tf\n",
        "import tensorflow_datasets as tfds\n",
        "import numpy as np\n",
        "import matplotlib.pyplot as plt\n",
        "\n",
        "from tensorflow.keras.preprocessing.text import one_hot\n",
        "from tensorflow.keras.preprocessing.sequence import pad_sequences\n",
        "from tensorflow.keras.preprocessing.text import Tokenizer\n",
        "from tensorflow.keras.models import Sequential\n",
        "from tensorflow.keras.layers import Flatten, Embedding, Dense, GlobalAveragePooling1D\n",
        "from tensorflow.keras.callbacks import EarlyStopping\n",
        "\n",
        "print(tf.__version__)"
      ]
    },
    {
      "cell_type": "code",
      "execution_count": null,
      "metadata": {
        "colab": {
          "base_uri": "https://localhost:8080/"
        },
        "id": "lMHwYXHXCar3",
        "outputId": "2fb0cd1b-c3dc-478d-a9ff-d231b11fcd60"
      },
      "outputs": [
        {
          "name": "stdout",
          "output_type": "stream",
          "text": [
            "--2025-09-04 18:00:38--  https://cdn.freecodecamp.org/project-data/sms/train-data.tsv\n",
            "Resolving cdn.freecodecamp.org (cdn.freecodecamp.org)... 104.26.3.33, 104.26.2.33, 172.67.70.149, ...\n",
            "Connecting to cdn.freecodecamp.org (cdn.freecodecamp.org)|104.26.3.33|:443... connected.\n",
            "HTTP request sent, awaiting response... 200 OK\n",
            "Length: 358233 (350K) [text/tab-separated-values]\n",
            "Saving to: ‘train-data.tsv’\n",
            "\n",
            "train-data.tsv      100%[===================>] 349.84K  1013KB/s    in 0.3s    \n",
            "\n",
            "2025-09-04 18:00:39 (1013 KB/s) - ‘train-data.tsv’ saved [358233/358233]\n",
            "\n",
            "--2025-09-04 18:00:39--  https://cdn.freecodecamp.org/project-data/sms/valid-data.tsv\n",
            "Resolving cdn.freecodecamp.org (cdn.freecodecamp.org)... 104.26.3.33, 104.26.2.33, 172.67.70.149, ...\n",
            "Connecting to cdn.freecodecamp.org (cdn.freecodecamp.org)|104.26.3.33|:443... connected.\n",
            "HTTP request sent, awaiting response... 200 OK\n",
            "Length: 118774 (116K) [text/tab-separated-values]\n",
            "Saving to: ‘valid-data.tsv’\n",
            "\n",
            "valid-data.tsv      100%[===================>] 115.99K   704KB/s    in 0.2s    \n",
            "\n",
            "2025-09-04 18:00:40 (704 KB/s) - ‘valid-data.tsv’ saved [118774/118774]\n",
            "\n"
          ]
        }
      ],
      "source": [
        "# get data files\n",
        "!wget https://cdn.freecodecamp.org/project-data/sms/train-data.tsv\n",
        "!wget https://cdn.freecodecamp.org/project-data/sms/valid-data.tsv\n",
        "\n",
        "train_file_path = \"train-data.tsv\"\n",
        "test_file_path = \"valid-data.tsv\""
      ]
    },
    {
      "cell_type": "code",
      "execution_count": null,
      "metadata": {
        "colab": {
          "base_uri": "https://localhost:8080/"
        },
        "id": "zOMKywn4zReN",
        "outputId": "159e5b09-ca4c-4977-ff43-a8a390cffddb"
      },
      "outputs": [
        {
          "name": "stdout",
          "output_type": "stream",
          "text": [
            "  class                                            message\n",
            "0   ham  ahhhh...just woken up!had a bad dream about u ...\n",
            "1   ham                           you can never do nothing\n",
            "2   ham  now u sound like manky scouse boy steve,like! ...\n",
            "3   ham  mum say we wan to go then go... then she can s...\n",
            "4   ham  never y lei... i v lazy... got wat? dat day ü ...\n"
          ]
        }
      ],
      "source": [
        "df_train = pd.read_csv(train_file_path, sep= \"\\t\" ,header=None, names=[\"class\" , \"message\"])\n",
        "print(df_train.head())\n"
      ]
    },
    {
      "cell_type": "code",
      "execution_count": null,
      "metadata": {
        "colab": {
          "base_uri": "https://localhost:8080/"
        },
        "id": "oWuDDO2mMUeW",
        "outputId": "1a5ec337-615f-4f16-954c-c59d7f571ef1"
      },
      "outputs": [
        {
          "name": "stdout",
          "output_type": "stream",
          "text": [
            "  class                                            message\n",
            "0   ham  i am in hospital da. . i will return home in e...\n",
            "1   ham         not much, just some textin'. how bout you?\n",
            "2   ham  i probably won't eat at all today. i think i'm...\n",
            "3   ham  don‘t give a flying monkeys wot they think and...\n",
            "4   ham                                who are you seeing?\n"
          ]
        }
      ],
      "source": [
        "df_test = pd.read_csv(test_file_path, sep= \"\\t\",header=None, names=[\"class\" , \"message\"])\n",
        "print(df_test.head())"
      ]
    },
    {
      "cell_type": "code",
      "execution_count": null,
      "metadata": {
        "colab": {
          "base_uri": "https://localhost:8080/"
        },
        "id": "0ZeLAVMFMUcG",
        "outputId": "311a0a62-0927-4d29-f04d-aefd8a638a80"
      },
      "outputs": [
        {
          "name": "stdout",
          "output_type": "stream",
          "text": [
            "4179\n",
            "1392\n"
          ]
        }
      ],
      "source": [
        "print(len(df_train))\n",
        "print(len(df_test))"
      ]
    },
    {
      "cell_type": "code",
      "execution_count": null,
      "metadata": {
        "colab": {
          "base_uri": "https://localhost:8080/"
        },
        "id": "E--tH0zZMUZ2",
        "outputId": "bf32f853-e03b-4e1e-fa1a-c63bd63580af"
      },
      "outputs": [
        {
          "name": "stderr",
          "output_type": "stream",
          "text": [
            "/tmp/ipython-input-6-2832180405.py:1: FutureWarning: Downcasting behavior in `replace` is deprecated and will be removed in a future version. To retain the old behavior, explicitly call `result.infer_objects(copy=False)`. To opt-in to the future behavior, set `pd.set_option('future.no_silent_downcasting', True)`\n",
            "  df_train['class'] = df_train['class'].replace({'ham':0 ,'spam':1})\n",
            "/tmp/ipython-input-6-2832180405.py:2: FutureWarning: Downcasting behavior in `replace` is deprecated and will be removed in a future version. To retain the old behavior, explicitly call `result.infer_objects(copy=False)`. To opt-in to the future behavior, set `pd.set_option('future.no_silent_downcasting', True)`\n",
            "  df_test['class'] = df_test['class'].replace({'ham':0 ,'spam':1})\n"
          ]
        }
      ],
      "source": [
        "df_train['class'] = df_train['class'].replace({'ham':0 ,'spam':1})\n",
        "df_test['class'] = df_test['class'].replace({'ham':0 ,'spam':1})"
      ]
    },
    {
      "cell_type": "markdown",
      "metadata": {
        "id": "KFsIFBJUSPO-"
      },
      "source": []
    },
    {
      "cell_type": "code",
      "execution_count": null,
      "metadata": {
        "colab": {
          "base_uri": "https://localhost:8080/",
          "height": 53
        },
        "id": "kVyYpkbFQQw4",
        "outputId": "b1c48e2b-64cb-4218-aaa4-02587802be06"
      },
      "outputs": [
        {
          "data": {
            "application/vnd.google.colaboratory.intrinsic+json": {
              "type": "string"
            },
            "text/plain": [
              "\"\\nvocabulary_dict = {}\\nfor messgae in df_train['message']:\\n  for vocabulary in messgae.split():\\n    if vocabulary not in vocabulary_dict:\\n      vocabulary_dict[vocabulary] = 1\\n    else:\\n      vocabulary_dict[vocabulary] += 1\\n\""
            ]
          },
          "execution_count": 7,
          "metadata": {},
          "output_type": "execute_result"
        }
      ],
      "source": [
        "'''\n",
        "vocabulary_dict = {}\n",
        "for messgae in df_train['message']:\n",
        "  for vocabulary in messgae.split():\n",
        "    if vocabulary not in vocabulary_dict:\n",
        "      vocabulary_dict[vocabulary] = 1\n",
        "    else:\n",
        "      vocabulary_dict[vocabulary] += 1\n",
        "'''"
      ]
    },
    {
      "cell_type": "code",
      "execution_count": null,
      "metadata": {
        "id": "hAT8PZ5QQQt9"
      },
      "outputs": [],
      "source": [
        "VOCAB_SIZE = 10000\n",
        "MAX_LENGTH = 100"
      ]
    },
    {
      "cell_type": "code",
      "execution_count": null,
      "metadata": {
        "id": "MdNJ2nVXMUU8"
      },
      "outputs": [],
      "source": [
        "#encoded_train_message = [one_hot(d, VOCAB_SIZE) for d in df_train['message']]\n",
        "#padded_train_message = pad_sequences(encoded_train_message, maxlen=MAX_LENGTH, padding='post')\n",
        "#encoded_test_message = [one_hot(d, VOCAB_SIZE) for d in df_test['message']]\n",
        "#padded_test_message = pad_sequences(encoded_test_message, maxlen=MAX_LENGTH, padding='post')"
      ]
    },
    {
      "cell_type": "code",
      "execution_count": null,
      "metadata": {
        "id": "KePAddjJbVRe"
      },
      "outputs": [],
      "source": [
        "from tensorflow.keras.preprocessing.text import Tokenizer\n",
        "from tensorflow.keras.preprocessing.sequence import pad_sequences\n",
        "\n",
        "tokenizer = Tokenizer(num_words=VOCAB_SIZE, oov_token=\"<OOV>\")\n",
        "tokenizer.fit_on_texts(df_train['message'])\n",
        "\n",
        "padded_train_message = pad_sequences(tokenizer.texts_to_sequences(df_train['message']),\n",
        "                                     maxlen=MAX_LENGTH, padding='post')\n",
        "padded_test_message = pad_sequences(tokenizer.texts_to_sequences(df_test['message']),\n",
        "                                    maxlen=MAX_LENGTH, padding='post')\n"
      ]
    },
    {
      "cell_type": "code",
      "execution_count": null,
      "metadata": {
        "colab": {
          "base_uri": "https://localhost:8080/"
        },
        "id": "02uZ4otYMUSl",
        "outputId": "17b1d348-dc17-40af-fece-cd6dcb7800aa"
      },
      "outputs": [
        {
          "name": "stderr",
          "output_type": "stream",
          "text": [
            "/usr/local/lib/python3.11/dist-packages/keras/src/layers/core/embedding.py:90: UserWarning: Argument `input_length` is deprecated. Just remove it.\n",
            "  warnings.warn(\n"
          ]
        },
        {
          "name": "stdout",
          "output_type": "stream",
          "text": [
            "Epoch 1/50\n",
            "131/131 - 4s - 33ms/step - accuracy: 0.8605 - loss: 0.3711 - val_accuracy: 0.8657 - val_loss: 0.3586\n",
            "Epoch 2/50\n",
            "131/131 - 4s - 34ms/step - accuracy: 0.8660 - loss: 0.3414 - val_accuracy: 0.8657 - val_loss: 0.3290\n",
            "Epoch 3/50\n",
            "131/131 - 4s - 28ms/step - accuracy: 0.8660 - loss: 0.3075 - val_accuracy: 0.8657 - val_loss: 0.2875\n",
            "Epoch 4/50\n",
            "131/131 - 1s - 10ms/step - accuracy: 0.8703 - loss: 0.2536 - val_accuracy: 0.8858 - val_loss: 0.2248\n",
            "Epoch 5/50\n",
            "131/131 - 1s - 11ms/step - accuracy: 0.9218 - loss: 0.1883 - val_accuracy: 0.9296 - val_loss: 0.1717\n",
            "Epoch 6/50\n",
            "131/131 - 2s - 18ms/step - accuracy: 0.9603 - loss: 0.1364 - val_accuracy: 0.9698 - val_loss: 0.1342\n",
            "Epoch 7/50\n",
            "131/131 - 2s - 19ms/step - accuracy: 0.9718 - loss: 0.1044 - val_accuracy: 0.9684 - val_loss: 0.1076\n",
            "Epoch 8/50\n",
            "131/131 - 2s - 18ms/step - accuracy: 0.9761 - loss: 0.0853 - val_accuracy: 0.9749 - val_loss: 0.0934\n",
            "Epoch 9/50\n",
            "131/131 - 1s - 10ms/step - accuracy: 0.9818 - loss: 0.0719 - val_accuracy: 0.9705 - val_loss: 0.0878\n",
            "Epoch 10/50\n",
            "131/131 - 3s - 20ms/step - accuracy: 0.9837 - loss: 0.0637 - val_accuracy: 0.9727 - val_loss: 0.0800\n",
            "Epoch 11/50\n",
            "131/131 - 3s - 20ms/step - accuracy: 0.9852 - loss: 0.0549 - val_accuracy: 0.9792 - val_loss: 0.0728\n",
            "Epoch 12/50\n",
            "131/131 - 1s - 10ms/step - accuracy: 0.9847 - loss: 0.0514 - val_accuracy: 0.9705 - val_loss: 0.0871\n",
            "Epoch 13/50\n",
            "131/131 - 3s - 20ms/step - accuracy: 0.9876 - loss: 0.0446 - val_accuracy: 0.9749 - val_loss: 0.0708\n",
            "Epoch 14/50\n",
            "131/131 - 3s - 19ms/step - accuracy: 0.9895 - loss: 0.0407 - val_accuracy: 0.9749 - val_loss: 0.0709\n",
            "Epoch 15/50\n",
            "131/131 - 3s - 19ms/step - accuracy: 0.9897 - loss: 0.0366 - val_accuracy: 0.9799 - val_loss: 0.0603\n",
            "Epoch 16/50\n",
            "131/131 - 3s - 20ms/step - accuracy: 0.9919 - loss: 0.0344 - val_accuracy: 0.9806 - val_loss: 0.0576\n",
            "Epoch 17/50\n",
            "131/131 - 1s - 10ms/step - accuracy: 0.9916 - loss: 0.0322 - val_accuracy: 0.9799 - val_loss: 0.0564\n",
            "Epoch 18/50\n",
            "131/131 - 3s - 20ms/step - accuracy: 0.9923 - loss: 0.0312 - val_accuracy: 0.9792 - val_loss: 0.0571\n",
            "Epoch 19/50\n",
            "131/131 - 1s - 10ms/step - accuracy: 0.9921 - loss: 0.0269 - val_accuracy: 0.9813 - val_loss: 0.0530\n",
            "Epoch 20/50\n",
            "131/131 - 3s - 20ms/step - accuracy: 0.9935 - loss: 0.0254 - val_accuracy: 0.9792 - val_loss: 0.0556\n",
            "Epoch 21/50\n",
            "131/131 - 1s - 10ms/step - accuracy: 0.9935 - loss: 0.0238 - val_accuracy: 0.9864 - val_loss: 0.0585\n",
            "Epoch 22/50\n",
            "131/131 - 3s - 20ms/step - accuracy: 0.9943 - loss: 0.0225 - val_accuracy: 0.9806 - val_loss: 0.0533\n",
            "Epoch 23/50\n",
            "131/131 - 1s - 10ms/step - accuracy: 0.9943 - loss: 0.0213 - val_accuracy: 0.9835 - val_loss: 0.0493\n",
            "Epoch 24/50\n",
            "131/131 - 3s - 19ms/step - accuracy: 0.9945 - loss: 0.0198 - val_accuracy: 0.9835 - val_loss: 0.0487\n",
            "Epoch 25/50\n",
            "131/131 - 3s - 19ms/step - accuracy: 0.9940 - loss: 0.0190 - val_accuracy: 0.9849 - val_loss: 0.0582\n",
            "Epoch 26/50\n",
            "131/131 - 1s - 10ms/step - accuracy: 0.9952 - loss: 0.0177 - val_accuracy: 0.9835 - val_loss: 0.0489\n",
            "Epoch 27/50\n",
            "131/131 - 3s - 21ms/step - accuracy: 0.9955 - loss: 0.0158 - val_accuracy: 0.9864 - val_loss: 0.0497\n",
            "Epoch 28/50\n",
            "131/131 - 1s - 10ms/step - accuracy: 0.9966 - loss: 0.0143 - val_accuracy: 0.9864 - val_loss: 0.0491\n",
            "Epoch 29/50\n",
            "131/131 - 3s - 20ms/step - accuracy: 0.9962 - loss: 0.0142 - val_accuracy: 0.9835 - val_loss: 0.0476\n",
            "Epoch 30/50\n",
            "131/131 - 3s - 19ms/step - accuracy: 0.9966 - loss: 0.0131 - val_accuracy: 0.9842 - val_loss: 0.0461\n",
            "Epoch 31/50\n",
            "131/131 - 1s - 10ms/step - accuracy: 0.9971 - loss: 0.0120 - val_accuracy: 0.9842 - val_loss: 0.0493\n",
            "Epoch 32/50\n",
            "131/131 - 3s - 20ms/step - accuracy: 0.9966 - loss: 0.0121 - val_accuracy: 0.9849 - val_loss: 0.0445\n",
            "Epoch 33/50\n",
            "131/131 - 1s - 10ms/step - accuracy: 0.9966 - loss: 0.0110 - val_accuracy: 0.9835 - val_loss: 0.0507\n",
            "Epoch 34/50\n",
            "131/131 - 1s - 11ms/step - accuracy: 0.9971 - loss: 0.0102 - val_accuracy: 0.9842 - val_loss: 0.0464\n",
            "Epoch 35/50\n",
            "131/131 - 2s - 19ms/step - accuracy: 0.9981 - loss: 0.0098 - val_accuracy: 0.9856 - val_loss: 0.0445\n",
            "Epoch 36/50\n",
            "131/131 - 3s - 20ms/step - accuracy: 0.9974 - loss: 0.0092 - val_accuracy: 0.9864 - val_loss: 0.0443\n",
            "Epoch 37/50\n",
            "131/131 - 3s - 20ms/step - accuracy: 0.9976 - loss: 0.0086 - val_accuracy: 0.9842 - val_loss: 0.0544\n",
            "Epoch 38/50\n",
            "131/131 - 1s - 11ms/step - accuracy: 0.9966 - loss: 0.0094 - val_accuracy: 0.9849 - val_loss: 0.0433\n",
            "Epoch 39/50\n",
            "131/131 - 2s - 19ms/step - accuracy: 0.9981 - loss: 0.0074 - val_accuracy: 0.9864 - val_loss: 0.0442\n",
            "Epoch 40/50\n",
            "131/131 - 3s - 20ms/step - accuracy: 0.9981 - loss: 0.0082 - val_accuracy: 0.9842 - val_loss: 0.0508\n",
            "Epoch 41/50\n",
            "131/131 - 3s - 19ms/step - accuracy: 0.9983 - loss: 0.0079 - val_accuracy: 0.9864 - val_loss: 0.0449\n",
            "Epoch 42/50\n",
            "131/131 - 1s - 11ms/step - accuracy: 0.9986 - loss: 0.0065 - val_accuracy: 0.9856 - val_loss: 0.0522\n",
            "Epoch 43/50\n",
            "131/131 - 2s - 19ms/step - accuracy: 0.9986 - loss: 0.0068 - val_accuracy: 0.9856 - val_loss: 0.0547\n",
            "Epoch 44/50\n",
            "131/131 - 1s - 11ms/step - accuracy: 0.9986 - loss: 0.0058 - val_accuracy: 0.9842 - val_loss: 0.0429\n",
            "Epoch 45/50\n",
            "131/131 - 1s - 10ms/step - accuracy: 0.9988 - loss: 0.0056 - val_accuracy: 0.9864 - val_loss: 0.0492\n",
            "Epoch 46/50\n",
            "131/131 - 1s - 11ms/step - accuracy: 0.9986 - loss: 0.0052 - val_accuracy: 0.9849 - val_loss: 0.0446\n",
            "Epoch 46: early stopping\n",
            "Restoring model weights from the end of the best epoch: 21.\n"
          ]
        },
        {
          "data": {
            "text/plain": [
              "<keras.src.callbacks.history.History at 0x7c98a38930d0>"
            ]
          },
          "execution_count": 11,
          "metadata": {},
          "output_type": "execute_result"
        }
      ],
      "source": [
        "model = Sequential()\n",
        "model.add(Embedding(VOCAB_SIZE, 100, input_length=MAX_LENGTH))\n",
        "model.add(GlobalAveragePooling1D())\n",
        "model.add(Dense(1, activation='sigmoid'))\n",
        "model.compile(optimizer='adam', loss='binary_crossentropy', metrics=['accuracy'])\n",
        "monitor = EarlyStopping(monitor='val_accuracy', min_delta=1e-4, patience=25,\n",
        "                        verbose=1, mode='max', restore_best_weights=True)\n",
        "model.fit(padded_train_message, df_train['class'],\n",
        "          validation_data=(padded_test_message, df_test['class']),\n",
        "          callbacks=[monitor], epochs=50, verbose=2)"
      ]
    },
    {
      "cell_type": "code",
      "execution_count": null,
      "metadata": {
        "colab": {
          "base_uri": "https://localhost:8080/"
        },
        "id": "J9tD9yACG6M9",
        "outputId": "262a025b-f7fa-4737-d2f6-edaab260a2a4"
      },
      "outputs": [
        {
          "name": "stdout",
          "output_type": "stream",
          "text": [
            "[np.float32(0.020044276), 'ham']\n"
          ]
        }
      ],
      "source": [
        "def predict_message(pred_text):\n",
        "    class_dict = {0: \"ham\", 1: \"spam\"}\n",
        "\n",
        "    # Use the trained tokenizer\n",
        "    encoded_message = tokenizer.texts_to_sequences([pred_text])\n",
        "    padded_message = pad_sequences(encoded_message, maxlen=MAX_LENGTH, padding='post')\n",
        "\n",
        "    pred = model.predict(padded_message, verbose=0)[0][0]  # single float\n",
        "    label = class_dict[int(np.round(pred))]\n",
        "\n",
        "    return [pred, label]\n",
        "\n",
        "# Example\n",
        "pred_text = \"how are you doing today?\"\n",
        "prediction = predict_message(pred_text)\n",
        "print(prediction)"
      ]
    },
    {
      "cell_type": "code",
      "execution_count": null,
      "metadata": {
        "colab": {
          "base_uri": "https://localhost:8080/"
        },
        "id": "Dxotov85SjsC",
        "outputId": "6a5583f0-423e-4cb0-b3dc-2ebbf0ddfe82"
      },
      "outputs": [
        {
          "name": "stdout",
          "output_type": "stream",
          "text": [
            "You passed the challenge. Great job!\n"
          ]
        }
      ],
      "source": [
        "# Run this cell to test your function and model. Do not modify contents.\n",
        "def test_predictions():\n",
        "  test_messages = [\"how are you doing today\",\n",
        "                   \"sale today! to stop texts call 98912460324\",\n",
        "                   \"i dont want to go. can we try it a different day? available sat\",\n",
        "                   \"our new mobile video service is live. just install on your phone to start watching.\",\n",
        "                   \"you have won £1000 cash! call to claim your prize.\",\n",
        "                   \"i'll bring it tomorrow. don't forget the milk.\",\n",
        "                   \"wow, is your arm alright. that happened to me one time too\"\n",
        "                  ]\n",
        "\n",
        "  test_answers = [\"ham\", \"spam\", \"ham\", \"spam\", \"spam\", \"ham\", \"ham\"]\n",
        "  passed = True\n",
        "\n",
        "  for msg, ans in zip(test_messages, test_answers):\n",
        "    prediction = predict_message(msg)\n",
        "    if prediction[1] != ans:\n",
        "      passed = False\n",
        "\n",
        "  if passed:\n",
        "    print(\"You passed the challenge. Great job!\")\n",
        "  else:\n",
        "    print(\"You haven't passed yet. Keep trying.\")\n",
        "\n",
        "test_predictions()\n"
      ]
    }
  ],
  "metadata": {
    "colab": {
      "provenance": [],
      "runtime_attributes": {
        "runtime_version": "2025.07"
      },
      "toc_visible": true
    },
    "kernelspec": {
      "display_name": "Python 3",
      "name": "python3"
    },
    "language_info": {}
  },
  "nbformat": 4,
  "nbformat_minor": 0
}
